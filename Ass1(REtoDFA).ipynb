{
  "nbformat": 4,
  "nbformat_minor": 0,
  "metadata": {
    "colab": {
      "provenance": [],
      "authorship_tag": "ABX9TyMr+TaN/YiSlm1Z/NZoHI1h",
      "include_colab_link": true
    },
    "kernelspec": {
      "name": "python3",
      "display_name": "Python 3"
    },
    "language_info": {
      "name": "python"
    }
  },
  "cells": [
    {
      "cell_type": "markdown",
      "metadata": {
        "id": "view-in-github",
        "colab_type": "text"
      },
      "source": [
        "<a href=\"https://colab.research.google.com/github/amrashraf15/RegularExpression-To-DFA/blob/main/Ass1(REtoDFA).ipynb\" target=\"_parent\"><img src=\"https://colab.research.google.com/assets/colab-badge.svg\" alt=\"Open In Colab\"/></a>"
      ]
    },
    {
      "cell_type": "code",
      "execution_count": 1,
      "metadata": {
        "id": "LP8AQelZQFaW"
      },
      "outputs": [],
      "source": [
        "import json\n",
        "from graphviz import Digraph\n",
        "from itertools import count"
      ]
    },
    {
      "cell_type": "markdown",
      "source": [
        "Classes\n"
      ],
      "metadata": {
        "id": "596Usg3kUPVa"
      }
    },
    {
      "cell_type": "code",
      "source": [
        "class State:\n",
        "    _ids = count(0)\n",
        "    def __init__(self):\n",
        "        self.name = f\"S{next(State._ids)}\"\n",
        "        self.transitions = {}\n",
        "        self.is_EndState = False"
      ],
      "metadata": {
        "id": "iXqNh7UVUTHr"
      },
      "execution_count": null,
      "outputs": []
    },
    {
      "cell_type": "code",
      "source": [
        "class NFA:\n",
        "    def __init__(self, start, end):\n",
        "        self.start = start\n",
        "        self.end = end"
      ],
      "metadata": {
        "id": "CDd4PSYcWl4r"
      },
      "execution_count": null,
      "outputs": []
    }
  ]
}