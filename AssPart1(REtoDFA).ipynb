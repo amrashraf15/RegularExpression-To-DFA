{
  "cells": [
    {
      "cell_type": "markdown",
      "metadata": {
        "colab_type": "text",
        "id": "view-in-github"
      },
      "source": [
        "<a href=\"https://colab.research.google.com/github/amrashraf15/RegularExpression-To-DFA/blob/main/Ass1(REtoDFA).ipynb\" target=\"_parent\"><img src=\"https://colab.research.google.com/assets/colab-badge.svg\" alt=\"Open In Colab\"/></a>"
      ]
    },
    {
      "cell_type": "code",
      "execution_count": 1,
      "metadata": {
        "id": "LP8AQelZQFaW"
      },
      "outputs": [],
      "source": [
        "import json\n",
        "from graphviz import Digraph\n",
        "from itertools import count"
      ]
    },
    {
      "cell_type": "markdown",
      "metadata": {
        "id": "596Usg3kUPVa"
      },
      "source": [
        "Classes\n"
      ]
    },
    {
      "cell_type": "code",
      "execution_count": null,
      "metadata": {
        "id": "iXqNh7UVUTHr"
      },
      "outputs": [],
      "source": [
        "class State:\n",
        "    _ids = count(0)\n",
        "    def __init__(self):\n",
        "        self.name = f\"S{next(State._ids)}\"\n",
        "        self.transitions = {}\n",
        "        self.is_EndState = False\n",
        "        self.is_StartState = False"
      ]
    },
    {
      "cell_type": "code",
      "execution_count": null,
      "metadata": {
        "id": "CDd4PSYcWl4r"
      },
      "outputs": [],
      "source": [
        "class NFA:\n",
        "    def __init__(self, start, end):\n",
        "        self.start = start\n",
        "        self.end = end"
      ]
    },
    {
      "cell_type": "code",
      "execution_count": null,
      "metadata": {},
      "outputs": [],
      "source": [
        "class DFA:\n",
        "    def __init__(self):\n",
        "        self.startState = None\n",
        "        self.states = set() \n",
        "        self.transitions = {} \n",
        "        self.acceptingStates = set()  \n",
        "    from_json(self, json_data):\n",
        "        data= json.loads(json_data)\n",
        "        state_dict = {}\n",
        "        for stateInfo in data[\"states\"]:\n",
        "            state = State()\n",
        "            state.is_EndState = stateInfo[\"is_accepting\"]\n",
        "            state_dict[stateInfo[\"name\"]] = state\n",
        "            self.states.add(state)\n",
        "            if stateInfo[\"is_start\"]:\n",
        "                self.startState = state"
      ]
    },
    {
      "cell_type": "code",
      "execution_count": null,
      "metadata": {},
      "outputs": [],
      "source": []
    }
  ],
  "metadata": {
    "colab": {
      "authorship_tag": "ABX9TyMr+TaN/YiSlm1Z/NZoHI1h",
      "include_colab_link": true,
      "provenance": []
    },
    "kernelspec": {
      "display_name": "Python 3",
      "name": "python3"
    },
    "language_info": {
      "name": "python"
    }
  },
  "nbformat": 4,
  "nbformat_minor": 0
}
